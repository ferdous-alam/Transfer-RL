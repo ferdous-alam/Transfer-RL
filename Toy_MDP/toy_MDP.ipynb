{
 "cells": [
  {
   "cell_type": "code",
   "execution_count": 1,
   "metadata": {
    "pycharm": {
     "name": "#%%\n"
    }
   },
   "outputs": [],
   "source": [
    "import numpy as np\n",
    "import matplotlib.pyplot as plt\n",
    "from scipy.linalg import norm\n",
    "import random\n",
    "from tqdm import tqdm\n",
    "from ToyMDP import ToyMDP as mdp\n",
    "from ToyMDP import get_state_id, get_action_id, policy\n",
    "from algo import q_leanring\n",
    "\n",
    "# source\n",
    "source_reward_weight = [1, 1]\n",
    "source = mdp(source_reward_weight, uncertain_prob='source')\n",
    "\n",
    "# target\n",
    "target_reward_weight = [1, -1]\n",
    "target = mdp(target_reward_weight, uncertain_prob='source')\n"
   ]
  },
  {
   "cell_type": "code",
   "execution_count": 2,
   "metadata": {
    "pycharm": {
     "name": "#%%\n"
    }
   },
   "outputs": [
    {
     "name": "stderr",
     "output_type": "stream",
     "text": [
      "100%|██████████| 100/100 [00:00<00:00, 5810.98it/s]\n",
      "100%|██████████| 100/100 [00:00<00:00, 7421.45it/s]\n"
     ]
    }
   ],
   "source": [
    "Q_source = q_leanring(env=source, num_epochs=500)\n",
    "Q_target = q_leanring(env=target, num_epochs=500)"
   ]
  },
  {
   "cell_type": "code",
   "execution_count": 16,
   "metadata": {},
   "outputs": [
    {
     "name": "stdout",
     "output_type": "stream",
     "text": [
      "state:0, action:-1, next_state:-1, reward:0.8\n",
      "state:-1, action:-1, next_state:-2, reward:0.6\n"
     ]
    },
    {
     "data": {
      "text/plain": [
       "[<matplotlib.lines.Line2D at 0x7fe898ae1760>]"
      ]
     },
     "execution_count": 16,
     "metadata": {},
     "output_type": "execute_result"
    },
    {
     "data": {
      "image/png": "[encoded data removed]",
      "text/plain": [
       "<Figure size 432x288 with 1 Axes>"
      ]
     },
     "metadata": {
      "needs_background": "light"
     },
     "output_type": "display_data"
    }
   ],
   "source": [
    "state = target.reset()\n",
    "done = False\n",
    "ep_reward = [0]\n",
    "\n",
    "while not done: \n",
    "    action = policy(state, Q_target, epsilon=0.0)\n",
    "    next_state, reward = target.step(state, action)\n",
    "\n",
    "    # save reward \n",
    "    ep_reward.append(reward)\n",
    "\n",
    "    if next_state == target.trap or next_state == target.goal:\n",
    "        done = True\n",
    "\n",
    "    print(f'state:{state}, action:{action}, next_state:{next_state}, reward:{reward}')\n",
    "    state = next_state\n",
    "\n",
    "plt.plot(ep_reward, '-o')"
   ]
  },
  {
   "cell_type": "code",
   "execution_count": 17,
   "metadata": {},
   "outputs": [
    {
     "data": {
      "text/plain": [
       "array([[0.6   , 0.1875],\n",
       "       [0.8   , 0.2   ],\n",
       "       [0.5   , 0.    ]])"
      ]
     },
     "execution_count": 17,
     "metadata": {},
     "output_type": "execute_result"
    }
   ],
   "source": [
    "Q_target"
   ]
  },
  {
   "cell_type": "code",
   "execution_count": 34,
   "metadata": {},
   "outputs": [
    {
     "data": {
      "text/plain": [
       "-1"
      ]
     },
     "execution_count": 34,
     "metadata": {},
     "output_type": "execute_result"
    }
   ],
   "source": [
    "policy(0, Q_source, epsilon=0.0)"
   ]
  },
  {
   "cell_type": "code",
   "execution_count": 49,
   "metadata": {},
   "outputs": [
    {
     "name": "stdout",
     "output_type": "stream",
     "text": [
      "yes\n"
     ]
    },
    {
     "data": {
      "text/plain": [
       "-1"
      ]
     },
     "execution_count": 49,
     "metadata": {},
     "output_type": "execute_result"
    }
   ],
   "source": [
    "def decision(state, Q, epsilon=0.05):\n",
    "    \"\"\"\n",
    "    epsilon-greedy policy\n",
    "    \"\"\"\n",
    "\n",
    "    if np.random.randn() < epsilon: \n",
    "        # random action\n",
    "        action = random.choice([1, -1])\n",
    "    else:\n",
    "        # greedy action\n",
    "        action = np.argmax(Q[state, :])\n",
    "        if action == 0: \n",
    "            action = -1  # need to adjust action for index\n",
    "        else:\n",
    "            action = +1\n",
    "\n",
    "    return action\n",
    "\n",
    "decision(0, Q_source, epsilon=0)"
   ]
  },
  {
   "cell_type": "code",
   "execution_count": null,
   "metadata": {},
   "outputs": [],
   "source": []
  },
  {
   "cell_type": "code",
   "execution_count": null,
   "metadata": {
    "pycharm": {
     "name": "#%%\n"
    }
   },
   "outputs": [],
   "source": []
  },
  {
   "cell_type": "code",
   "execution_count": null,
   "metadata": {
    "pycharm": {
     "name": "#%%\n"
    }
   },
   "outputs": [],
   "source": [
    "\n"
   ]
  },
  {
   "cell_type": "code",
   "execution_count": null,
   "metadata": {
    "pycharm": {
     "name": "#%%\n"
    }
   },
   "outputs": [],
   "source": []
  },
  {
   "cell_type": "code",
   "execution_count": null,
   "metadata": {
    "pycharm": {
     "name": "#%%\n"
    }
   },
   "outputs": [],
   "source": []
  },
  {
   "cell_type": "code",
   "execution_count": 134,
   "metadata": {
    "pycharm": {
     "name": "#%%\n"
    }
   },
   "outputs": [],
   "source": [
    "\n",
    "\n",
    "\n",
    "\n",
    "\n"
   ]
  },
  {
   "cell_type": "code",
   "execution_count": null,
   "metadata": {
    "pycharm": {
     "name": "#%%\n"
    }
   },
   "outputs": [],
   "source": []
  },
  {
   "cell_type": "code",
   "execution_count": null,
   "metadata": {
    "pycharm": {
     "name": "#%%\n"
    }
   },
   "outputs": [],
   "source": []
  },
  {
   "cell_type": "code",
   "execution_count": null,
   "metadata": {
    "pycharm": {
     "name": "#%%\n"
    }
   },
   "outputs": [],
   "source": []
  },
  {
   "cell_type": "code",
   "execution_count": null,
   "metadata": {
    "pycharm": {
     "name": "#%%\n"
    }
   },
   "outputs": [],
   "source": []
  }
 ],
 "metadata": {
  "kernelspec": {
   "display_name": "Python 3.9.7 ('RLkit')",
   "language": "python",
   "name": "python3"
  },
  "language_info": {
   "codemirror_mode": {
    "name": "ipython",
    "version": 3
   },
   "file_extension": ".py",
   "mimetype": "text/x-python",
   "name": "python",
   "nbconvert_exporter": "python",
   "pygments_lexer": "ipython3",
   "version": "3.9.7"
  },
  "orig_nbformat": 4,
  "vscode": {
   "interpreter": {
    "hash": "a5802854d643f4e60c118319e9715ef38d399a30bb1c5b3055ab7ffc3ce7ed6a"
   }
  }
 },
 "nbformat": 4,
 "nbformat_minor": 2
}
