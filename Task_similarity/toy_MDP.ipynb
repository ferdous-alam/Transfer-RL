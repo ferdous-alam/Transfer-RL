{
 "cells": [
  {
   "cell_type": "code",
   "execution_count": 2,
   "metadata": {
    "pycharm": {
     "name": "#%%\n"
    }
   },
   "outputs": [
    {
     "data": {
      "image/png": "[encoded data removed]",
      "text/plain": [
       "<Figure size 864x576 with 1 Axes>"
      ]
     },
     "metadata": {
      "needs_background": "light"
     },
     "output_type": "display_data"
    }
   ],
   "source": [
    "import numpy as np\n",
    "import matplotlib.pyplot as plt\n",
    "from scipy.linalg import norm\n",
    "\n",
    "\n",
    "class ToyMDP:\n",
    "    def __init__(self, reward_weight, uncertain_prob=None):\n",
    "        \"\"\"\n",
    "        \n",
    "        \"\"\"\n",
    "        \n",
    "        self.reward_weight = reward_weight\n",
    "        self.uncertain_prob = uncertain_prob\n",
    "        self.s0 = 0\n",
    "        self.s1 = 1\n",
    "        self.s2 = -1\n",
    "        self.goal = 2\n",
    "        self.trap = -2\n",
    "        self.states = [self.trap, self.s2, self.s0, self.s1, self.goal]        \n",
    "        self.a_r = 1\n",
    "        self.a_l = -1\n",
    "        self.actions = [self.a_r, self.a_l] # right, left\n",
    "        self.reward_weight = reward_weight\n",
    "        # reward features\n",
    "        self.reward_features = np.array([[self.s2, self.a_l], \n",
    "                                    [self.s0, self.a_l], \n",
    "                                    [self.s2, self.a_r], \n",
    "                                    [self.s1, self.a_l],\n",
    "                                    [self.s0, self.a_r], \n",
    "                                    [self.s1, self.a_r]])\n",
    "        # dynamics features                                    \n",
    "        self.prob_features = np.array([[self.s2, self.a_l], \n",
    "                                    [self.s0, self.a_l], \n",
    "                                    [self.s2, self.a_r], \n",
    "                                    [self.s1, self.a_l],\n",
    "                                    [self.s0, self.a_r], \n",
    "                                    [self.s1, self.a_r]])\n",
    "\n",
    "    def reward_func(self):\n",
    "        reward_weight = np.array(self.reward_weight).reshape(-1, 1)\n",
    "        rewards = np.matmul(self.reward_features, self.reward_weight)\n",
    "        rewards += 3  # add bias to make reward positive \n",
    "        rewards = np.squeeze(rewards).tolist()\n",
    "        return rewards\n",
    "\n",
    "    def dynamics(self, state, action):\n",
    "        if self.uncertain_prob is not None:\n",
    "            if np.random.rand() < self.uncertain_prob:\n",
    "                idx = np.random.randint(4)\n",
    "                action = self.action_dict[idx]\n",
    "        next_state = list(np.array(state) + np.array(action))\n",
    "        next_state = [min(max(next_state[0], 0), 3), min(max(next_state[1], 0), 3)]\n",
    "        return next_state\n",
    "\n",
    "    def step(self, state, action):\n",
    "        # get state from state id\n",
    "        state = self.state_dict[state_id]\n",
    "        # get action from action id\n",
    "        action = self.action_dict[action_id]\n",
    "        # take action\n",
    "        next_state = self.dynamics(state, action)\n",
    "        reward = self.reward_func(state, action, next_state)\n",
    "        # get state id from state\n",
    "        next_state_id = self._get_id_from_state(next_state)\n",
    "        return next_state_id, reward\n",
    "\n",
    "    def plot_rewards(self, rewards_cache=None):\n",
    "        plt.rcParams['text.usetex'] = True\n",
    "        rewards = self.reward_func()\n",
    "        plt.figure(figsize=(12, 8))\n",
    "        x = [i for i in range(len(rewards))]\n",
    "        plt.bar(np.array(x)-.10, rewards, width=0.10, ls='--', lw=2.0, fill=True, label='$T_0$')\n",
    "\n",
    "        if rewards_cache is not None:\n",
    "            for k in range(len(rewards_cache)):\n",
    "                plt.bar(np.array(x)+k*0.10, rewards_cache[k], width=0.10, ls='--', lw=2.0, fill=True, label=f'$T_{k+1}$')\n",
    "            \n",
    "\n",
    "        plt.ylim([0, 7])\n",
    "        plt.xticks(x, ['$\\mathcal{R}(s_2, a_l)$', '$\\mathcal{R}(s_0, a_l)$', '$\\mathcal{R}(s_2, a_r)$',\n",
    "                       '$\\mathcal{R}(s_1, a_l)$', '$\\mathcal{R}(s_0, a_r)$', '$\\mathcal{R}(s_1, a_r)$'])\n",
    "        plt.xticks(fontsize=24)\n",
    "        plt.yticks(fontsize=24)\n",
    "        plt.rcParams['axes.linewidth'] = 2.0\n",
    "        plt.legend(fontsize=18, ncol=2)\n",
    "        plt.savefig('figures/rewards.png', dpi=300)\n",
    "\n",
    "\n",
    "def _task_sim(Ws, Wt):\n",
    "    cosine_sim = np.dot(Ws, Wt)/(norm(Ws)*norm(Wt))\n",
    "    return cosine_sim\n",
    "    \n",
    "  \n",
    "def _plot_sim(sim_array):\n",
    "        plt.rcParams['text.usetex'] = True\n",
    "        plt.figure(figsize=(12, 8))\n",
    "        x = [i for i in range(len(sim_array))]\n",
    "        plt.plot(np.array(x), sim_array, '--o', markersize=15, \n",
    "                markerfacecolor='none', markeredgecolor='r', lw=2.0, \n",
    "                markeredgewidth=3.0)\n",
    "        tick_labels = [f'sim($T_0, T_{i+1}$)' for i in range(len(sim_array))]\n",
    "        plt.xticks(x, tick_labels)\n",
    "\n",
    "        plt.xticks(fontsize=24)\n",
    "        plt.yticks(fontsize=24)\n",
    "        plt.rcParams['axes.linewidth'] = 2.0\n",
    "        plt.savefig('figures/task_sim.png', dpi=300)\n",
    "\n",
    "\n",
    "\n",
    "\n",
    "reward_weight0 = [1, 1]\n",
    "reward_weight1 = [1, 0]\n",
    "reward_weight2 = [0, 1]\n",
    "reward_weight3 = [-1, 1]\n",
    "reward_weight4 = [0, -1]\n",
    "reward_weight5 = [-1, -1]\n",
    "\n",
    "mdp0 = ToyMDP(reward_weight0)\n",
    "mdp1 = ToyMDP(reward_weight1)\n",
    "mdp2 = ToyMDP(reward_weight2)\n",
    "mdp3 = ToyMDP(reward_weight3)\n",
    "mdp4 = ToyMDP(reward_weight4)\n",
    "mdp5 = ToyMDP(reward_weight5)\n",
    "\n",
    "rewards1 = mdp1.reward_func()\n",
    "rewards2 = mdp2.reward_func()\n",
    "rewards3 = mdp3.reward_func()\n",
    "rewards4 = mdp4.reward_func()\n",
    "rewards5 = mdp5.reward_func()\n",
    "\n",
    "\n",
    "rewards_cache = [rewards1, rewards2, rewards3, rewards4, rewards5] \n",
    "\n",
    "mdp0.plot_rewards(rewards_cache=rewards_cache)"
   ]
  },
  {
   "cell_type": "code",
   "execution_count": 4,
   "metadata": {
    "pycharm": {
     "name": "#%%\n"
    }
   },
   "outputs": [
    {
     "data": {
      "image/png": "[encoded data removed]",
      "text/plain": [
       "<Figure size 864x576 with 1 Axes>"
      ]
     },
     "metadata": {
      "needs_background": "light"
     },
     "output_type": "display_data"
    }
   ],
   "source": [
    "sim0 =_task_sim(reward_weight0, reward_weight0)\n",
    "sim1 =_task_sim(reward_weight0, reward_weight1)\n",
    "sim2 =_task_sim(reward_weight0, reward_weight2)\n",
    "sim3 =_task_sim(reward_weight0, reward_weight3)\n",
    "sim4 =_task_sim(reward_weight0, reward_weight4)\n",
    "sim5 =_task_sim(reward_weight0, reward_weight5)\n",
    "\n",
    "r_sim = [sim0, sim1, sim2, sim3, sim4, sim5]\n",
    "\n",
    "_plot_sim(r_sim)"
   ]
  },
  {
   "cell_type": "code",
   "execution_count": null,
   "metadata": {
    "pycharm": {
     "name": "#%%\n"
    }
   },
   "outputs": [],
   "source": []
  },
  {
   "cell_type": "code",
   "execution_count": null,
   "metadata": {
    "pycharm": {
     "name": "#%%\n"
    }
   },
   "outputs": [],
   "source": []
  },
  {
   "cell_type": "code",
   "execution_count": null,
   "metadata": {
    "pycharm": {
     "name": "#%%\n"
    }
   },
   "outputs": [],
   "source": []
  },
  {
   "cell_type": "code",
   "execution_count": null,
   "metadata": {
    "pycharm": {
     "name": "#%%\n"
    }
   },
   "outputs": [],
   "source": []
  },
  {
   "cell_type": "code",
   "execution_count": 134,
   "metadata": {
    "pycharm": {
     "name": "#%%\n"
    }
   },
   "outputs": [],
   "source": [
    "\n",
    "\n",
    "\n",
    "\n",
    "\n"
   ]
  },
  {
   "cell_type": "code",
   "execution_count": null,
   "metadata": {
    "pycharm": {
     "name": "#%%\n"
    }
   },
   "outputs": [],
   "source": []
  },
  {
   "cell_type": "code",
   "execution_count": null,
   "metadata": {
    "pycharm": {
     "name": "#%%\n"
    }
   },
   "outputs": [],
   "source": []
  },
  {
   "cell_type": "code",
   "execution_count": null,
   "metadata": {
    "pycharm": {
     "name": "#%%\n"
    }
   },
   "outputs": [],
   "source": []
  },
  {
   "cell_type": "code",
   "execution_count": null,
   "metadata": {
    "pycharm": {
     "name": "#%%\n"
    }
   },
   "outputs": [],
   "source": []
  }
 ],
 "metadata": {
  "kernelspec": {
   "display_name": "Python 3.9.7 ('RLkit')",
   "language": "python",
   "name": "python3"
  },
  "language_info": {
   "codemirror_mode": {
    "name": "ipython",
    "version": 3
   },
   "file_extension": ".py",
   "mimetype": "text/x-python",
   "name": "python",
   "nbconvert_exporter": "python",
   "pygments_lexer": "ipython3",
   "version": "3.9.7"
  },
  "orig_nbformat": 4,
  "vscode": {
   "interpreter": {
    "hash": "a5802854d643f4e60c118319e9715ef38d399a30bb1c5b3055ab7ffc3ce7ed6a"
   }
  }
 },
 "nbformat": 4,
 "nbformat_minor": 2
}