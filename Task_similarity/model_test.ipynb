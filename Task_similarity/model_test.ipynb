{
 "cells": [
  {
   "cell_type": "code",
   "execution_count": 1,
   "metadata": {},
   "outputs": [
    {
     "name": "stderr",
     "output_type": "stream",
     "text": [
      "\n"
     ]
    }
   ],
   "source": [
    "import numpy as np\n",
    "import torch\n",
    "import torch.nn.functional as F\n",
    "import torch.nn as nn\n",
    "import torch\n",
    "from torch.utils.data import Dataset, DataLoader\n",
    "import gym\n",
    "import time\n",
    "from tqdm import tqdm\n",
    "import json\n",
    "from livelossplot import PlotLosses\n",
    "import torch.nn.functional as F\n",
    "import torch.nn as nn\n",
    "from livelossplot import PlotLosses"
   ]
  },
  {
   "cell_type": "code",
   "execution_count": 4,
   "metadata": {},
   "outputs": [],
   "source": [
    "# test\n",
    "f1 = '/media/ghost-083/SolarSystem1/1_Research/00_Transfer-RL/Task_similarity/dataset/Pendulum_dataset_1.json'\n",
    "data1 = json.load(open(f1))\n",
    "\n",
    "f2 = '/media/ghost-083/SolarSystem1/1_Research/00_Transfer-RL/Task_similarity/dataset/Pendulum_dataset_2.json'\n",
    "data2 = json.load(open(f2))\n"
   ]
  },
  {
   "cell_type": "code",
   "execution_count": 8,
   "metadata": {},
   "outputs": [
    {
     "data": {
      "text/plain": [
       "[7.0, 0.1, 0.001]"
      ]
     },
     "execution_count": 8,
     "metadata": {},
     "output_type": "execute_result"
    }
   ],
   "source": [
    "data1['env arguments']"
   ]
  },
  {
   "cell_type": "code",
   "execution_count": 9,
   "metadata": {},
   "outputs": [
    {
     "data": {
      "text/plain": [
       "[7.0, 0.1, 0.001]"
      ]
     },
     "execution_count": 9,
     "metadata": {},
     "output_type": "execute_result"
    }
   ],
   "source": [
    "data2['env arguments']"
   ]
  },
  {
   "cell_type": "code",
   "execution_count": 2,
   "metadata": {},
   "outputs": [],
   "source": [
    "f_source = 'data/Pendulum_dataset_0.json'\n",
    "json_data_source = json.load(open(f_source))\n",
    "\n",
    "f_target1 = 'data/Pendulum_dataset_1.json'\n",
    "json_data_target1 = json.load(open(f_target1))\n",
    "\n",
    "f_target2 = 'data/Pendulum_dataset_2.json'\n",
    "json_data_target2 = json.load(open(f_target2))\n",
    "\n",
    "f_target3 = 'data/Pendulum_dataset_3.json'\n",
    "json_data_target3 = json.load(open(f_target3))\n",
    "\n",
    "print('data loaded successfully!')"
   ]
  },
  {
   "cell_type": "code",
   "execution_count": 3,
   "metadata": {},
   "outputs": [],
   "source": [
    "\n",
    "# helper functions\n",
    "\n",
    "\n",
    "def get_dataset(json_data):\n",
    "  source_data = json_data['data']\n",
    "  source_state_action_data = []\n",
    "  for trj in source_data:\n",
    "      for d in trj:\n",
    "          x = []\n",
    "          s, a, s_next, r, terminated = d\n",
    "          # m = s + a + s_next \n",
    "          m = s + a + [r]\n",
    "          source_state_action_data.append(m)\n",
    "\n",
    "  dataset = np.array(source_state_action_data)\n",
    "  data = torch.tensor(dataset)\n",
    "  return data\n",
    "\n",
    "\n",
    "class PendulumDataset(Dataset):\n",
    "    def __init__(self, dataset):\n",
    "        self.dataset = dataset\n",
    "\n",
    "    def __len__(self):\n",
    "        return len(self.dataset)\n",
    "\n",
    "    def __getitem__(self, idx):\n",
    "        if torch.is_tensor(idx):\n",
    "            idx = idx.tolist()\n",
    "        sample, label = self.dataset[idx, :-1], self.dataset[idx, -1]\n",
    "        return sample, label\n",
    "\n",
    "      \n",
    "  \n",
    "# model \n",
    "class DynamicsModel(nn.Module):\n",
    "    def __init__(self, num_features):\n",
    "        super().__init__()\n",
    "        self.linear_1 = nn.Linear(num_features, 32)\n",
    "        self.linear_2 = nn.Linear(32, 16)\n",
    "        self.linear_3 = nn.Linear(16, 32)\n",
    "        self.linear_4 = nn.Linear(32, 3)\n",
    "\n",
    "    def forward(self, x):\n",
    "        x = self.linear_1(x)\n",
    "        z = self.linear_2(x)\n",
    "        x = self.linear_3(z)\n",
    "        x = self.linear_4(x)\n",
    "        return x, z\n",
    "\n",
    "\n",
    "class DynamicsModelSuccessor(nn.Module):\n",
    "    def __init__(self, num_features):\n",
    "        super().__init__()\n",
    "        self.linear_1 = nn.Linear(num_features, 32)\n",
    "        self.linear_2 = nn.Linear(32, 32)\n",
    "        self.linear_3 = nn.Linear(32, 16)\n",
    "        self.linear_4 = nn.Linear(16, 1)\n",
    "\n",
    "    def forward(self, x):\n",
    "        x = self.linear_1(x)\n",
    "        x = self.linear_2(x)\n",
    "        phi = self.linear_3(x)\n",
    "        x = self.linear_4(phi)\n",
    "        return x, phi\n",
    "\n",
    "\n",
    "def train_model(train_loader, lr, model_name=None):\n",
    "  device = torch.device(\"cuda:0\" if torch.cuda.is_available() else \"cpu\")\n",
    "  # random_seed = 9029323\n",
    "  learning_rate = lr\n",
    "  num_epochs = 25\n",
    "\n",
    "  # torch.manual_seed(random_seed)\n",
    "  model = DynamicsModelSuccessor(num_features=4)\n",
    "  model.to(device)\n",
    "\n",
    "  optimizer = torch.optim.Adam(model.parameters(), lr=learning_rate)\n",
    "  loss_func = nn.MSELoss()\n",
    "\n",
    "  liveloss = PlotLosses()\n",
    "\n",
    "  for epoch in range(num_epochs): \n",
    "      model.train() \n",
    "      for batch, label in train_loader:\n",
    "          logs = {}\n",
    "          batch, label = batch.to(device).float(), label.to(device).float()\n",
    "          s_next_pred, latent = model(batch)\n",
    "          loss = 5 * loss_func(s_next_pred, label)\n",
    "          optimizer.zero_grad()\n",
    "          loss.backward()\n",
    "          optimizer.step()\n",
    "\n",
    "      # liveloss plotting\n",
    "      logs['loss'] = loss.item()\n",
    "      liveloss.update(logs)\n",
    "      liveloss.send()\n",
    "\n",
    "  torch.save(model.state_dict(), 'saved_data/{}.pth'.format(model_name))\n",
    "\n"
   ]
  },
  {
   "cell_type": "code",
   "execution_count": 4,
   "metadata": {},
   "outputs": [
    {
     "name": "stdout",
     "output_type": "stream",
     "text": [
      "input shape: torch.Size([32, 4]), label shape: torch.Size([32])\n"
     ]
    }
   ],
   "source": [
    "import torch\n",
    "from torch.utils.data import Dataset, DataLoader\n",
    "\n",
    "small_dataset = np.array(state_action_data)\n",
    "data = torch.tensor(small_dataset)\n",
    "\n",
    "\n",
    "class PendulumDataset(Dataset):\n",
    "    def __init__(self, dataset):\n",
    "        self.dataset = dataset\n",
    "\n",
    "    def __len__(self):\n",
    "        return len(self.dataset)\n",
    "\n",
    "    def __getitem__(self, idx):\n",
    "        if torch.is_tensor(idx):\n",
    "            idx = idx.tolist()\n",
    "        sample, label = self.dataset[idx, :-1], self.dataset[idx, -1]\n",
    "        return sample, label\n",
    "\n",
    "pendulum_dataset = PendulumDataset(data)\n",
    "batch_size = 32\n",
    "train_loader = DataLoader(dataset=pendulum_dataset, \n",
    "                          batch_size=batch_size, \n",
    "                          shuffle=True)\n",
    "\n",
    "for sample, label in train_loader:\n",
    "    print(f'input shape: {sample.size()}, label shape: {label.size()}')\n",
    "    break"
   ]
  },
  {
   "cell_type": "code",
   "execution_count": 5,
   "metadata": {},
   "outputs": [],
   "source": [
    "import torch.nn.functional as F\n",
    "import torch.nn as nn\n",
    "\n",
    "# model \n",
    "class RewardModel(nn.Module):\n",
    "    def __init__(self, num_features):\n",
    "        super().__init__()\n",
    "        self.linear_1 = nn.Linear(num_features, 32)\n",
    "        self.linear_2 = nn.Linear(32, 16)\n",
    "        self.linear_3 = nn.Linear(16, 32)\n",
    "        self.linear_4 = nn.Linear(32, 1)\n",
    "\n",
    "\n",
    "    def forward(self, x):\n",
    "        x = self.linear_1(x)\n",
    "        z = self.linear_2(x)\n",
    "        x = self.linear_3(z)\n",
    "        r = self.linear_4(x)\n",
    "        return r"
   ]
  },
  {
   "cell_type": "code",
   "execution_count": 11,
   "metadata": {},
   "outputs": [
    {
     "data": {
      "image/png": "[encoded data removed]",
      "text/plain": [
       "<Figure size 864x576 with 2 Axes>"
      ]
     },
     "metadata": {
      "needs_background": "light"
     },
     "output_type": "display_data"
    },
    {
     "name": "stdout",
     "output_type": "stream",
     "text": [
      "Loss\n",
      "\tloss             \t (min:    1.247, max:   31.595, cur:    1.338)\n"
     ]
    }
   ],
   "source": [
    "from livelossplot import PlotLosses\n",
    "\n",
    "\n",
    "device = torch.device(\"cuda:0\" if torch.cuda.is_available() else \"cpu\")\n",
    "random_seed = 356594\n",
    "learning_rate = 0.00001\n",
    "num_epochs = 100\n",
    "\n",
    "torch.manual_seed(random_seed)\n",
    "model = RewardModel(num_features=4)\n",
    "model.to(device)\n",
    "\n",
    "optimizer = torch.optim.Adam(model.parameters(), lr=learning_rate)\n",
    "loss_func = nn.MSELoss()\n",
    "\n",
    "liveloss = PlotLosses()\n",
    "\n",
    "for epoch in range(num_epochs): \n",
    "    model.train() \n",
    "    for batch, label in train_loader:\n",
    "        logs = {}\n",
    "        batch, label = batch.to(device).float(), label.to(device).float()\n",
    "        r_hat = model(batch)\n",
    "        r_hat = torch.flatten(r_hat)\n",
    "        loss = loss_func(r_hat, label)\n",
    "        optimizer.zero_grad()\n",
    "        loss.backward()\n",
    "        optimizer.step()\n",
    "\n",
    "    # liveloss plotting\n",
    "    logs['loss'] = loss.item()\n",
    "    liveloss.update(logs)\n",
    "    liveloss.send()\n",
    "\n",
    "torch.save(model.state_dict(), 'saved_data/model_pendulum_reward.pth')b"
   ]
  },
  {
   "cell_type": "code",
   "execution_count": null,
   "metadata": {},
   "outputs": [],
   "source": [
    "\n",
    "# get dataset \n",
    "source_data = get_dataset(json_data_source)\n",
    "target_data1 = get_dataset(json_data_target1)\n",
    "target_data2 = get_dataset(json_data_target2)\n",
    "target_data3 = get_dataset(json_data_target3)\n",
    "\n",
    "pendulum_dataset_source = PendulumDataset(source_data)\n",
    "pendulum_dataset_target1 = PendulumDataset(target_data1)\n",
    "pendulum_dataset_target2 = PendulumDataset(target_data2)\n",
    "pendulum_dataset_target3 = PendulumDataset(target_data3)\n",
    "\n",
    "\n",
    "batch_size = 16\n",
    "source_loader = DataLoader(dataset=pendulum_dataset_source, \n",
    "                          batch_size=batch_size, \n",
    "                          shuffle=True)\n",
    "\n",
    "target_loader1 = DataLoader(dataset=pendulum_dataset_target1, \n",
    "                          batch_size=batch_size, \n",
    "                          shuffle=True)\n",
    "target_loader2 = DataLoader(dataset=pendulum_dataset_target2, \n",
    "                          batch_size=batch_size, \n",
    "                          shuffle=True)\n",
    "target_loader3 = DataLoader(dataset=pendulum_dataset_target3, \n",
    "                          batch_size=batch_size, \n",
    "                          shuffle=True)\n",
    "\n",
    "\n",
    "for sample, label in source_loader:\n",
    "    print(f'input shape: {sample.size()}, label shape: {label.size()}')\n",
    "    break\n"
   ]
  },
  {
   "cell_type": "code",
   "execution_count": 2,
   "metadata": {},
   "outputs": [
    {
     "data": {
      "text/plain": [
       "0.0001"
      ]
     },
     "execution_count": 2,
     "metadata": {},
     "output_type": "execute_result"
    }
   ],
   "source": [
    "# test\n",
    "batch, label = next(iter(source_loader))\n",
    "# load source model\n",
    "model_source = DynamicsModelSuccessor(num_features=4)\n",
    "model_source.load_state_dict(torch.load('saved_data/model_pendulum_dynamics_0.pth'))\n",
    "model_source.eval()\n",
    "\n",
    "pred, phi = model_source(batch.float())\n",
    "print(pred[:5])\n",
    "print(label[:5])"
   ]
  },
  {
   "cell_type": "code",
   "execution_count": null,
   "metadata": {},
   "outputs": [],
   "source": [
    "# train target\n",
    "train_model(target_loader1, 'model_pendulum_dynamics_1')\n"
   ]
  },
  {
   "cell_type": "code",
   "execution_count": null,
   "metadata": {},
   "outputs": [],
   "source": [
    "# train target\n",
    "train_model(target_loader2, 'model_pendulum_dynamics_2')"
   ]
  },
  {
   "cell_type": "code",
   "execution_count": null,
   "metadata": {},
   "outputs": [],
   "source": [
    "# train target\n",
    "train_model(target_loader3, 'model_pendulum_dynamics_3')\n"
   ]
  },
  {
   "cell_type": "code",
   "execution_count": null,
   "metadata": {},
   "outputs": [],
   "source": [
    "# load source model\n",
    "model_source = DynamicsModel(num_features=4)\n",
    "model_source.load_state_dict(torch.load('saved_data/model_pendulum_dynamics_0.pth'))\n",
    "model_source.eval()\n",
    "\n",
    "# load target model\n",
    "model_target1 = DynamicsModel(num_features=4)\n",
    "model_target1.load_state_dict(torch.load('saved_data/model_pendulum_dynamics_1.pth'))\n",
    "model_target1.eval()\n",
    "\n",
    "model_target2 = DynamicsModel(num_features=4)\n",
    "model_target2.load_state_dict(torch.load('saved_data/model_pendulum_dynamics_2.pth'))\n",
    "model_target2.eval()\n",
    "\n",
    "model_target3 = DynamicsModel(num_features=4)\n",
    "model_target3.load_state_dict(torch.load('saved_data/model_pendulum_dynamics_3.pth'))\n",
    "model_target3.eval()\n",
    "\n",
    "print('models loaded successfully!')\n"
   ]
  },
  {
   "cell_type": "code",
   "execution_count": null,
   "metadata": {},
   "outputs": [],
   "source": [
    "def get_similarity(model_source, model_target, target_loader):\n",
    "  k = 0\n",
    "\n",
    "  cos = nn.CosineSimilarity(dim=1, eps=1e-6)\n",
    "  mse = nn.MSELoss(reduction='none')\n",
    "\n",
    "  sim = []\n",
    "\n",
    "  for batch, label in target_loader:\n",
    "      pred_t, z_t = model_target(batch.float())\n",
    "      pred_s, z_s = model_source(batch.float())\n",
    "      sim_val = cos(z_s, z_t)\n",
    "      # sim_val = mse(z_t, z_s)\n",
    "      # sim.append(sim_val.sum(dim=1))\n",
    "      sim.append(sim_val)\n",
    "\n",
    "  sim = torch.cat(sim)\n",
    "  mean_sim = sim.mean().item()\n",
    "  return mean_sim\n",
    "\n",
    "\n",
    "\n",
    "sim0 = get_similarity(model_source, model_source, source_loader)\n",
    "sim1 = get_similarity(model_source, model_target1, target_loader1)\n",
    "sim2 = get_similarity(model_source, model_target2, target_loader2)\n",
    "sim3 = get_similarity(model_source, model_target3, target_loader3)\n"
   ]
  },
  {
   "cell_type": "code",
   "execution_count": null,
   "metadata": {},
   "outputs": [],
   "source": [
    "import matplotlib.pyplot as plt\n",
    "\n",
    "sim_all = [sim0, sim1, sim2, sim3]\n",
    "x = [i for i in range(len(sim_all))]\n",
    "\n",
    "plt.figure(figsize=(10, 8))\n",
    "plt.scatter(x, sim_all, s=100, c='black')\n",
    "plt.rcParams['axes.linewidth'] = 2.0\n",
    "plt.xlabel('tasks', fontsize=18)\n",
    "plt.ylabel('similarity', fontsize=18)\n",
    "plt.xticks([0, 1, 2, 3], ['$sim(T_0, T_0)$', '$sim(T_0, T_1)$', '$sim(T_0, T_2)$', '$sim(T_0, T_3)$'], fontsize=18)\n",
    "plt.show()"
   ]
  }
 ],
 "metadata": {
  "kernelspec": {
   "display_name": "Python 3.9.7 ('RLkit')",
   "language": "python",
   "name": "python3"
  },
  "language_info": {
   "codemirror_mode": {
    "name": "ipython",
    "version": 3
   },
   "file_extension": ".py",
   "mimetype": "text/x-python",
   "name": "python",
   "nbconvert_exporter": "python",
   "pygments_lexer": "ipython3",
   "version": "3.9.7"
  },
  "orig_nbformat": 4,
  "vscode": {
   "interpreter": {
    "hash": "a5802854d643f4e60c118319e9715ef38d399a30bb1c5b3055ab7ffc3ce7ed6a"
   }
  }
 },
 "nbformat": 4,
 "nbformat_minor": 2
}
