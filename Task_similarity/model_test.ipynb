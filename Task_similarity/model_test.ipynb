{
 "cells": [
  {
   "cell_type": "code",
   "execution_count": 23,
   "metadata": {},
   "outputs": [],
   "source": [
    "import numpy as np\n",
    "import torch\n",
    "import torch.nn.functional as F\n",
    "import torch.nn as nn\n",
    "import gym\n",
    "import time\n",
    "from tqdm import tqdm\n",
    "import json\n",
    "from livelossplot import PlotLosses\n",
    "from utils.utils import get_similarity, get_loader\n",
    "from utils.utils import get_dataset, CreateTorchDataset\n",
    "from torch.utils.data import Dataset, DataLoader\n",
    "from utils.models import PendulumDynamicsModel, PendulumRewardModel, CartpoleDynamicsModel, PendulumDynamicsModelSuccessor\n",
    "from utils.plot_utils import plot_task_similarity_score\n",
    "from utils.utils import train_model, eval_model"
   ]
  },
  {
   "cell_type": "code",
   "execution_count": 3,
   "metadata": {},
   "outputs": [
    {
     "data": {
      "image/png": "[encoded data removed]",
      "text/plain": [
       "<Figure size 864x576 with 2 Axes>"
      ]
     },
     "metadata": {
      "needs_background": "light"
     },
     "output_type": "display_data"
    },
    {
     "name": "stdout",
     "output_type": "stream",
     "text": [
      "Loss\n",
      "\tloss             \t (min:    0.000, max:    0.705, cur:    0.001)\n",
      "completed!\n"
     ]
    }
   ],
   "source": [
    "def trainer(dpath, mname):\n",
    "    # create dataset\n",
    "    custom_dataset = get_dataset(dpath, ds_type='dynamics')\n",
    "    pendulum_data = CreateTorchDataset(custom_dataset, state_dim=3, \n",
    "                                        action_dim=1, ds_type='dynamics')\n",
    "    model = PendulumDynamicsModel(num_features=4)  # numebr of inputer features\n",
    "    lr = 0.0001\n",
    "    num_epochs = 25\n",
    "    optimizer = torch.optim.Adam(model.parameters(), lr=lr)\n",
    "    loss = nn.MSELoss()\n",
    "    model_name = mname\n",
    "    batch_size = 32\n",
    "    train_model(pendulum_data, model, lr,\n",
    "                    num_epochs, optimizer,\n",
    "                    loss, batch_size, \n",
    "                    model_name=model_name)\n",
    "                    \n",
    "    print('completed!')\n",
    "\n",
    "# path to json dataset\n",
    "path0 = '/media/ghost-083/SolarSystem1/1_Research/00_Transfer-RL/Task_similarity/dataset/Pendulum/Pendulum_dataset_0_train.json'\n",
    "path1 = '/media/ghost-083/SolarSystem1/1_Research/00_Transfer-RL/Task_similarity/dataset/Pendulum/Pendulum_dataset_1_train.json'\n",
    "path2 = '/media/ghost-083/SolarSystem1/1_Research/00_Transfer-RL/Task_similarity/dataset/Pendulum/Pendulum_dataset_2_train.json'\n",
    "path3 = '/media/ghost-083/SolarSystem1/1_Research/00_Transfer-RL/Task_similarity/dataset/Pendulum/Pendulum_dataset_3_train.json'\n",
    "path4 = '/media/ghost-083/SolarSystem1/1_Research/00_Transfer-RL/Task_similarity/dataset/Pendulum/Pendulum_dataset_4_train.json'\n",
    "path5 = '/media/ghost-083/SolarSystem1/1_Research/00_Transfer-RL/Task_similarity/dataset/Pendulum/Pendulum_dataset_5_train.json'\n",
    "\n",
    "\n",
    "trainer(path0, 'pendulum_0')\n",
    "trainer(path1, 'pendulum_1')"
   ]
  },
  {
   "cell_type": "code",
   "execution_count": null,
   "metadata": {},
   "outputs": [],
   "source": []
  },
  {
   "cell_type": "code",
   "execution_count": 43,
   "metadata": {},
   "outputs": [
    {
     "name": "stdout",
     "output_type": "stream",
     "text": [
      "0.022949337096170974 0.017078555775215012\n"
     ]
    }
   ],
   "source": [
    "# evaluation \n",
    "num = 0\n",
    "eval_path = f'/media/ghost-083/SolarSystem1/1_Research/00_Transfer-RL/Task_similarity/dataset/Pendulum/Pendulum_dataset_{num}_train.json'\n",
    "custom_dataset = get_dataset(eval_path, ds_type='dynamics')\n",
    "pendulum_test = CreateTorchDataset(custom_dataset, state_dim=3, \n",
    "                                action_dim=1, ds_type='dynamics')\n",
    "\n",
    "test_loader = DataLoader(dataset=pendulum_test, \n",
    "                        batch_size=5, \n",
    "                        shuffle=True)\n",
    "                        \n",
    "model = PendulumDynamicsModel(num_features=4)  # numebr of inputer features\n",
    "trained_model_path = f'saved_data/pendulum_{num}.pth'\n",
    "\n",
    "eval_mean, eval_std = eval_model(model, trained_model_path, cartpole_test)\n",
    "print(eval_mean, eval_std)"
   ]
  },
  {
   "cell_type": "code",
   "execution_count": 46,
   "metadata": {},
   "outputs": [
    {
     "name": "stdout",
     "output_type": "stream",
     "text": [
      "label: tensor([[-0.9934, -0.1148,  3.4870],\n",
      "        [ 0.9975, -0.0712, -3.0218],\n",
      "        [-0.9983,  0.0582, -0.5696],\n",
      "        [-0.1364,  0.9907, -4.2466],\n",
      "        [ 0.4796,  0.8775, -5.1246]], dtype=torch.float64)\n",
      "pred: tensor([[-1.0016, -0.1142,  3.4535],\n",
      "        [ 1.0077, -0.1197, -3.1036],\n",
      "        [-1.0198,  0.0551, -0.5756],\n",
      "        [-0.1234,  1.0058, -4.5873],\n",
      "        [ 0.4740,  0.9070, -5.4513]], grad_fn=<AddmmBackward0>)\n",
      "-------------\n"
     ]
    }
   ],
   "source": [
    "for k in range(1):\n",
    "    x, y = next(iter(test_loader))\n",
    "    pred, z = model(x.float())\n",
    "    print(f'label: {y}')\n",
    "    print(f'pred: {pred}')\n",
    "    print('-------------')"
   ]
  },
  {
   "cell_type": "code",
   "execution_count": 26,
   "metadata": {},
   "outputs": [
    {
     "data": {
      "text/plain": [
       "PendulumDynamicsModelSuccessor(\n",
       "  (linear_1): Linear(in_features=4, out_features=32, bias=True)\n",
       "  (linear_2): Linear(in_features=32, out_features=32, bias=True)\n",
       "  (linear_3): Linear(in_features=32, out_features=16, bias=True)\n",
       "  (linear_4): Linear(in_features=16, out_features=1, bias=True)\n",
       ")"
      ]
     },
     "execution_count": 26,
     "metadata": {},
     "output_type": "execute_result"
    }
   ],
   "source": [
    "model_source_path = 'saved_data/pendulum_1.pth'\n",
    "model = PendulumDynamicsModelSuccessor(num_features=4)\n",
    "model.load_state_dict(torch.load(model_source_path, map_location='cpu'))\n",
    "model.eval()"
   ]
  },
  {
   "cell_type": "code",
   "execution_count": 44,
   "metadata": {},
   "outputs": [
    {
     "data": {
      "text/plain": [
       "tensor([1.], grad_fn=<DivBackward0>)"
      ]
     },
     "execution_count": 44,
     "metadata": {},
     "output_type": "execute_result"
    }
   ],
   "source": [
    "a = model.linear_4.weight\n",
    "b = model.linear_4.weight\n",
    "cos = nn.CosineSimilarity(dim=1, eps=1e-6)\n",
    "cos(a, b)"
   ]
  },
  {
   "cell_type": "code",
   "execution_count": null,
   "metadata": {},
   "outputs": [],
   "source": []
  },
  {
   "cell_type": "code",
   "execution_count": null,
   "metadata": {},
   "outputs": [],
   "source": []
  }
 ],
 "metadata": {
  "kernelspec": {
   "display_name": "Python 3.9.7 ('RLkit')",
   "language": "python",
   "name": "python3"
  },
  "language_info": {
   "codemirror_mode": {
    "name": "ipython",
    "version": 3
   },
   "file_extension": ".py",
   "mimetype": "text/x-python",
   "name": "python",
   "nbconvert_exporter": "python",
   "pygments_lexer": "ipython3",
   "version": "3.9.7"
  },
  "orig_nbformat": 4,
  "vscode": {
   "interpreter": {
    "hash": "a5802854d643f4e60c118319e9715ef38d399a30bb1c5b3055ab7ffc3ce7ed6a"
   }
  }
 },
 "nbformat": 4,
 "nbformat_minor": 2
}
